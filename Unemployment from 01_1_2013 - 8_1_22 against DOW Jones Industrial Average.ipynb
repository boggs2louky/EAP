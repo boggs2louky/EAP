{
 "cells": [
  {
   "cell_type": "code",
   "execution_count": 1,
   "id": "f675c2c8",
   "metadata": {},
   "outputs": [
    {
     "name": "stdout",
     "output_type": "stream",
     "text": [
      "Requirement already satisfied: numpy in c:\\users\\theov\\anaconda3\\lib\\site-packages (1.21.5)\n",
      "Requirement already satisfied: pandas in c:\\users\\theov\\anaconda3\\lib\\site-packages (1.4.3)\n",
      "Requirement already satisfied: numpy>=1.18.5 in c:\\users\\theov\\anaconda3\\lib\\site-packages (from pandas) (1.21.5)\n",
      "Requirement already satisfied: python-dateutil>=2.8.1 in c:\\users\\theov\\anaconda3\\lib\\site-packages (from pandas) (2.8.2)\n",
      "Requirement already satisfied: pytz>=2020.1 in c:\\users\\theov\\anaconda3\\lib\\site-packages (from pandas) (2022.1)\n",
      "Requirement already satisfied: six>=1.5 in c:\\users\\theov\\anaconda3\\lib\\site-packages (from python-dateutil>=2.8.1->pandas) (1.16.0)\n",
      "Requirement already satisfied: numpy_financial in c:\\users\\theov\\anaconda3\\lib\\site-packages (1.0.0)\n",
      "Requirement already satisfied: numpy>=1.15 in c:\\users\\theov\\anaconda3\\lib\\site-packages (from numpy_financial) (1.21.5)\n",
      "Requirement already satisfied: matplotlib in c:\\users\\theov\\anaconda3\\lib\\site-packages (3.5.2)\n",
      "Requirement already satisfied: fonttools>=4.22.0 in c:\\users\\theov\\anaconda3\\lib\\site-packages (from matplotlib) (4.25.0)\n",
      "Requirement already satisfied: cycler>=0.10 in c:\\users\\theov\\anaconda3\\lib\\site-packages (from matplotlib) (0.11.0)\n",
      "Requirement already satisfied: pyparsing>=2.2.1 in c:\\users\\theov\\anaconda3\\lib\\site-packages (from matplotlib) (3.0.9)\n",
      "Requirement already satisfied: python-dateutil>=2.7 in c:\\users\\theov\\anaconda3\\lib\\site-packages (from matplotlib) (2.8.2)\n",
      "Requirement already satisfied: pillow>=6.2.0 in c:\\users\\theov\\anaconda3\\lib\\site-packages (from matplotlib) (9.2.0)\n",
      "Requirement already satisfied: packaging>=20.0 in c:\\users\\theov\\anaconda3\\lib\\site-packages (from matplotlib) (21.3)\n",
      "Requirement already satisfied: kiwisolver>=1.0.1 in c:\\users\\theov\\anaconda3\\lib\\site-packages (from matplotlib) (1.4.2)\n",
      "Requirement already satisfied: numpy>=1.17 in c:\\users\\theov\\anaconda3\\lib\\site-packages (from matplotlib) (1.21.5)\n",
      "Requirement already satisfied: six>=1.5 in c:\\users\\theov\\anaconda3\\lib\\site-packages (from python-dateutil>=2.7->matplotlib) (1.16.0)\n",
      "Requirement already satisfied: plotly.express in c:\\users\\theov\\anaconda3\\lib\\site-packages (0.4.1)\n",
      "Requirement already satisfied: pandas>=0.20.0 in c:\\users\\theov\\anaconda3\\lib\\site-packages (from plotly.express) (1.4.3)\n",
      "Requirement already satisfied: numpy>=1.11 in c:\\users\\theov\\anaconda3\\lib\\site-packages (from plotly.express) (1.21.5)\n",
      "Requirement already satisfied: plotly>=4.1.0 in c:\\users\\theov\\anaconda3\\lib\\site-packages (from plotly.express) (5.9.0)\n",
      "Requirement already satisfied: patsy>=0.5 in c:\\users\\theov\\anaconda3\\lib\\site-packages (from plotly.express) (0.5.2)\n",
      "Requirement already satisfied: statsmodels>=0.9.0 in c:\\users\\theov\\anaconda3\\lib\\site-packages (from plotly.express) (0.13.2)\n",
      "Requirement already satisfied: scipy>=0.18 in c:\\users\\theov\\anaconda3\\lib\\site-packages (from plotly.express) (1.7.3)\n",
      "Requirement already satisfied: pytz>=2020.1 in c:\\users\\theov\\anaconda3\\lib\\site-packages (from pandas>=0.20.0->plotly.express) (2022.1)\n",
      "Requirement already satisfied: python-dateutil>=2.8.1 in c:\\users\\theov\\anaconda3\\lib\\site-packages (from pandas>=0.20.0->plotly.express) (2.8.2)\n",
      "Requirement already satisfied: six in c:\\users\\theov\\anaconda3\\lib\\site-packages (from patsy>=0.5->plotly.express) (1.16.0)\n",
      "Requirement already satisfied: tenacity>=6.2.0 in c:\\users\\theov\\anaconda3\\lib\\site-packages (from plotly>=4.1.0->plotly.express) (8.0.1)\n",
      "Requirement already satisfied: packaging>=21.3 in c:\\users\\theov\\anaconda3\\lib\\site-packages (from statsmodels>=0.9.0->plotly.express) (21.3)\n",
      "Requirement already satisfied: pyparsing!=3.0.5,>=2.0.2 in c:\\users\\theov\\anaconda3\\lib\\site-packages (from packaging>=21.3->statsmodels>=0.9.0->plotly.express) (3.0.9)\n"
     ]
    }
   ],
   "source": [
    "import sys\n",
    "!{sys.executable} -m pip install numpy\n",
    "!{sys.executable} -m pip install pandas\n",
    "!{sys.executable} -m pip install numpy_financial\n",
    "!{sys.executable} -m pip install matplotlib\n",
    "!{sys.executable} -m pip install plotly.express"
   ]
  },
  {
   "cell_type": "code",
   "execution_count": 4,
   "id": "b4c4661e",
   "metadata": {},
   "outputs": [
    {
     "name": "stdout",
     "output_type": "stream",
     "text": [
      "         DATE  INUR  KYUR  OHUR  WVUR         DJIA\n",
      "0    1/1/2013   8.2   8.0   7.5   7.1  13615.32286\n",
      "1    2/1/2013   8.2   8.0   7.6   6.9  13967.33000\n",
      "2    3/1/2013   8.1   8.0   7.6   6.8  14418.25800\n",
      "3    4/1/2013   8.0   8.0   7.6   6.7  14675.90909\n",
      "4    5/1/2013   7.8   8.0   7.6   6.6  15172.18045\n",
      "..        ...   ...   ...   ...   ...          ...\n",
      "111  4/1/2022   2.2   3.9   4.0   3.6  34314.99000\n",
      "112  5/1/2022   2.2   3.8   3.9   3.5  32379.46286\n",
      "113  6/1/2022   2.4   3.7   3.9   3.6  31446.71286\n",
      "114  7/1/2022   2.6   3.7   3.9   3.7  31535.32350\n",
      "115  8/1/2022   2.8   3.8   4.0   3.9  33009.56478\n",
      "\n",
      "[116 rows x 6 columns]\n"
     ]
    }
   ],
   "source": [
    "import pandas as pd\n",
    "import numpy as np\n",
    "import numpy_financial as npf\n",
    "import matplotlib.pyplot as plt\n",
    "import plotly.express as px\n",
    "\n",
    "\n",
    "plt.style.use('fivethirtyeight')\n",
    "color_pal = plt.rcParams[\"axes.prop_cycle\"].by_key()[\"color\"]\n",
    "\n",
    "#Import the CSVs for working in Pandas. DF2 = \n",
    "df = pd.read_csv (r'C:\\Users\\theov\\OneDrive\\Desktop\\DAYP\\EAP\\URIKOW.csv')\n",
    "print(df)"
   ]
  },
  {
   "cell_type": "code",
   "execution_count": null,
   "id": "445b2c7f",
   "metadata": {},
   "outputs": [],
   "source": []
  }
 ],
 "metadata": {
  "kernelspec": {
   "display_name": "Python 3 (ipykernel)",
   "language": "python",
   "name": "python3"
  },
  "language_info": {
   "codemirror_mode": {
    "name": "ipython",
    "version": 3
   },
   "file_extension": ".py",
   "mimetype": "text/x-python",
   "name": "python",
   "nbconvert_exporter": "python",
   "pygments_lexer": "ipython3",
   "version": "3.9.12"
  }
 },
 "nbformat": 4,
 "nbformat_minor": 5
}
